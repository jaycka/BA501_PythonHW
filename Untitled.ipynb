{
 "cells": [
  {
   "cell_type": "code",
   "execution_count": 3,
   "metadata": {},
   "outputs": [],
   "source": [
    "import pandas as pd"
   ]
  },
  {
   "cell_type": "code",
   "execution_count": null,
   "metadata": {},
   "outputs": [],
   "source": [
    "### HW1: How can you remove duplicate values in a dataset in Python?"
   ]
  },
  {
   "cell_type": "code",
   "execution_count": null,
   "metadata": {},
   "outputs": [],
   "source": [
    "## Identify duplicates records in dataset df\n",
    "dupes = df.duplicated()\n",
    "\n",
    "## Check how many duplicates\n",
    "sum(dupes)\n",
    "\n",
    "## Remove duplicates\n",
    "df_unique = df.drop_duplicates()"
   ]
  },
  {
   "cell_type": "code",
   "execution_count": null,
   "metadata": {},
   "outputs": [],
   "source": [
    "### HW2: Determining the overall acceptnce rate (Both Python and SQL)"
   ]
  },
  {
   "cell_type": "code",
   "execution_count": 7,
   "metadata": {},
   "outputs": [
    {
     "data": {
      "text/html": [
       "<div>\n",
       "<style scoped>\n",
       "    .dataframe tbody tr th:only-of-type {\n",
       "        vertical-align: middle;\n",
       "    }\n",
       "\n",
       "    .dataframe tbody tr th {\n",
       "        vertical-align: top;\n",
       "    }\n",
       "\n",
       "    .dataframe thead th {\n",
       "        text-align: right;\n",
       "    }\n",
       "</style>\n",
       "<table border=\"1\" class=\"dataframe\">\n",
       "  <thead>\n",
       "    <tr style=\"text-align: right;\">\n",
       "      <th></th>\n",
       "      <th>requestor_id</th>\n",
       "      <th>time</th>\n",
       "      <th>sent_to_id</th>\n",
       "    </tr>\n",
       "  </thead>\n",
       "  <tbody>\n",
       "  </tbody>\n",
       "</table>\n",
       "</div>"
      ],
      "text/plain": [
       "Empty DataFrame\n",
       "Columns: [requestor_id, time, sent_to_id]\n",
       "Index: []"
      ]
     },
     "execution_count": 7,
     "metadata": {},
     "output_type": "execute_result"
    }
   ],
   "source": [
    "## creating new dataframe\n",
    "friend_request = pd.DataFrame(columns = ['requestor_id', 'time','sent_to_id'])\n",
    "friend_request"
   ]
  },
  {
   "cell_type": "code",
   "execution_count": 8,
   "metadata": {},
   "outputs": [
    {
     "data": {
      "text/html": [
       "<div>\n",
       "<style scoped>\n",
       "    .dataframe tbody tr th:only-of-type {\n",
       "        vertical-align: middle;\n",
       "    }\n",
       "\n",
       "    .dataframe tbody tr th {\n",
       "        vertical-align: top;\n",
       "    }\n",
       "\n",
       "    .dataframe thead th {\n",
       "        text-align: right;\n",
       "    }\n",
       "</style>\n",
       "<table border=\"1\" class=\"dataframe\">\n",
       "  <thead>\n",
       "    <tr style=\"text-align: right;\">\n",
       "      <th></th>\n",
       "      <th>time</th>\n",
       "      <th>acceptor_id</th>\n",
       "      <th>requestor_id</th>\n",
       "    </tr>\n",
       "  </thead>\n",
       "  <tbody>\n",
       "  </tbody>\n",
       "</table>\n",
       "</div>"
      ],
      "text/plain": [
       "Empty DataFrame\n",
       "Columns: [time, acceptor_id, requestor_id]\n",
       "Index: []"
      ]
     },
     "execution_count": 8,
     "metadata": {},
     "output_type": "execute_result"
    }
   ],
   "source": [
    "request_accepted = pd.DataFrame(columns = ['time', 'acceptor_id', 'requestor_id'])\n",
    "request_accepted"
   ]
  },
  {
   "cell_type": "code",
   "execution_count": null,
   "metadata": {},
   "outputs": [],
   "source": [
    "## Calculating acceptance rate = number of accepted requests / number of total requests\n",
    "rate = len(request_accepted)/len(friend_request)"
   ]
  },
  {
   "cell_type": "code",
   "execution_count": null,
   "metadata": {},
   "outputs": [],
   "source": [
    "## SELECT * INTO TEMP_TABLE\n",
    "## FROM friend_request fr\n",
    "## LEFT JOIN request_accepted ra\n",
    "## ON fr.requestor_id = ar.requestor_id AND fr.sent_to_id = ra.acceptor_id\n",
    "\n",
    "## SELECT COUNT(acceptor_id)/COUNT(*)\n",
    "## FROM TEMP_TABLE"
   ]
  },
  {
   "cell_type": "code",
   "execution_count": null,
   "metadata": {},
   "outputs": [],
   "source": [
    "### HW4: Identifying card issuers"
   ]
  },
  {
   "cell_type": "code",
   "execution_count": 16,
   "metadata": {},
   "outputs": [
    {
     "name": "stdout",
     "output_type": "stream",
     "text": [
      "4175004175004172 is issued by VISAELECTRON\n",
      "4917491749174917 is issued by VISAELECTRON\n",
      "346416800707698 is issued by AMEX\n",
      "376416800707698 is issued by AMEX\n",
      "37641680070769832112 not found\n",
      "36641680070769 is issued by Diners Club\n",
      "54545641680070769 not found\n"
     ]
    }
   ],
   "source": [
    "## Create a list of fake cc#\n",
    "card_no = ['4175004175004172',\n",
    "           '4917491749174917',\n",
    "           '346416800707698',\n",
    "           '376416800707698',\n",
    "           '37641680070769832112',\n",
    "           '36641680070769',\n",
    "           '54545641680070769']\n",
    "## Check each element within the list\n",
    "for i in card_no:\n",
    "    if i[0] == '4' and len(i)==16:\n",
    "        if i[0:4] in ('4026','4405','4508','4844','4913','4917') or i[0:6]=='417500':\n",
    "            print(i+' is issued by VISAELECTRON')\n",
    "        else:\n",
    "            print (i+' is issued by VISA')\n",
    "    elif i[0:2] =='36' and len(i)==14:\n",
    "        print(i+' is issued by Diners Club')\n",
    "    elif i[0:2] in ('34','37') and len(i) == 15:\n",
    "        print(i+' is issued by AMEX')\n",
    "    else:\n",
    "        print(i+' not found')"
   ]
  },
  {
   "cell_type": "code",
   "execution_count": null,
   "metadata": {},
   "outputs": [],
   "source": []
  }
 ],
 "metadata": {
  "kernelspec": {
   "display_name": "Python 3",
   "language": "python",
   "name": "python3"
  },
  "language_info": {
   "codemirror_mode": {
    "name": "ipython",
    "version": 3
   },
   "file_extension": ".py",
   "mimetype": "text/x-python",
   "name": "python",
   "nbconvert_exporter": "python",
   "pygments_lexer": "ipython3",
   "version": "3.6.4"
  }
 },
 "nbformat": 4,
 "nbformat_minor": 2
}
